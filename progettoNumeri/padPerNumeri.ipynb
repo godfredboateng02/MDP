{
 "cells": [
  {
   "cell_type": "markdown",
   "id": "fcde2568",
   "metadata": {},
   "source": [
    "# Pad per il riconoscimento di numeri in Real-time\n",
    "Questo notebook espone una libreria per testare il nostro modello che abbiamo precedentemente addestrato, tramite un pad dove è possibile scrivere dei numeri a mano che successivamente la rete artificiale neurale dovrà riconoscere.\n",
    "I numeri scritti a mano vengono elaborati e trasformati in immagini 28x28x1. Quindi viene applicato un filtro gaussiano e antialiasing per ridurre l'immagine nel formato adatto.\n",
    "\n",
    "### Funzionamento\n",
    "1. Esegui tutti i codici per poter utilizzare il pad\n",
    "2. Digita solamente una cifra\n",
    "3. Fai clear per pulire il pad"
   ]
  },
  {
   "cell_type": "code",
   "execution_count": 6,
   "id": "3633752c",
   "metadata": {},
   "outputs": [],
   "source": [
    "\n",
    "import tkinter as tk\n",
    "from PIL import Image, ImageDraw, ImageOps, ImageFilter\n",
    "import numpy as np\n",
    "from tensorflow.keras.models import load_model\n",
    "\n",
    "# caricamento del modello preaddestratoq\n",
    "model = load_model('best_model.keras')\n",
    "\n",
    "# Elaborazione dell'immagine per renderla compatibile con il modello\n",
    "def preprocess_image(image):\n",
    "    # conversione dell'immagine in scala di grigi e invertita\n",
    "    grayscale_image = ImageOps.invert(image.convert('L'))\n",
    "    \n",
    "    # applicazione del filtro gaussiano\n",
    "    blurred_image = grayscale_image.filter(ImageFilter.GaussianBlur(1))\n",
    "    \n",
    "    # riduzione graduale delle dimensioni dell'immagine e applicazione del filtro Lanczos\n",
    "    resized_image = blurred_image.resize((140, 140), Image.Resampling.LANCZOS)\n",
    "    resized_image = resized_image.resize((28, 28), Image.Resampling.LANCZOS)\n",
    "    \n",
    "    # Applicazione del thresholding per convertire l'immagine in bianco e nero\n",
    "    # threshold_image = resized_image.point(lambda x: 0 if x < 128 else 255, '1')\n",
    "    \n",
    "    # Normalizzazione dei valori dei pixel\n",
    "    image_array = np.array(resized_image) / 255.0\n",
    "    \n",
    "    return image_array.reshape(1, 28, 28, 1)\n",
    "\n",
    "# Funzione per la predizione del numero scritto\n",
    "def predict_digit(image):\n",
    "    preprocessed_image = preprocess_image(image)\n",
    "    prediction = model.predict(preprocessed_image)\n",
    "    probabilities = prediction[0]  # Estrazione delle probabilità di appartenenza ad ogni classe\n",
    "    predicted_digit = np.argmax(probabilities)  # Numero predetto\n",
    "    return predicted_digit, probabilities\n"
   ]
  },
  {
   "cell_type": "code",
   "execution_count": 7,
   "id": "e587defc",
   "metadata": {},
   "outputs": [
    {
     "name": "stdout",
     "output_type": "stream",
     "text": [
      "\u001b[1m1/1\u001b[0m \u001b[32m━━━━━━━━━━━━━━━━━━━━\u001b[0m\u001b[37m\u001b[0m \u001b[1m0s\u001b[0m 33ms/step\n"
     ]
    }
   ],
   "source": [
    "\n",
    "# Disegno del pad per la scrittura\n",
    "class DrawingPad:\n",
    "    def __init__(self, root):\n",
    "        self.root = root\n",
    "        self.canvas = tk.Canvas(root, width=280, height=280, bg=\"white\")\n",
    "        self.canvas.pack()\n",
    "\n",
    "        self.button_predict = tk.Button(root, text=\"Fai la predizione\", command=self.make_prediction)\n",
    "        self.button_predict.pack()\n",
    "\n",
    "        self.button_clear = tk.Button(root, text=\"Cancella\", command=self.clear_canvas)\n",
    "        self.button_clear.pack()\n",
    "\n",
    "        self.image = Image.new(\"RGB\", (280, 280), \"white\")\n",
    "        self.draw = ImageDraw.Draw(self.image)\n",
    "        self.canvas.bind(\"<B1-Motion>\", self.paint)\n",
    "\n",
    "        self.label_result = tk.Label(root, text=\"Predizione: \", font=(\"Helvetica\", 16))\n",
    "        self.label_result.pack()\n",
    "\n",
    "        self.label_probabilities = tk.Label(root, text=\"\", font=(\"Helvetica\", 12))\n",
    "        self.label_probabilities.pack()\n",
    "    \n",
    "    def paint(self, event):\n",
    "        brush_size = 15  # Dimensione del pennello (diametro in pixel)\n",
    "        x1, y1 = event.x - brush_size // 2, event.y - brush_size // 2\n",
    "        x2, y2 = event.x + brush_size // 2, event.y + brush_size // 2\n",
    "        self.canvas.create_oval(x1, y1, x2, y2, fill=\"black\", outline=\"black\")\n",
    "        self.draw.ellipse([x1, y1, x2, y2], fill=\"black\")\n",
    "\n",
    "\n",
    "    def make_prediction(self):\n",
    "        digit, probabilities = predict_digit(self.image)\n",
    "        self.label_result.config(text=f\"Numero predetto: {digit}\")\n",
    "        formatted_probs = \"\".join([f\"{i}: {prob:.2%} \" for i, prob in enumerate(probabilities)])\n",
    "        self.label_probabilities.config(text=f\"Probabilità: {formatted_probs}\")\n",
    "\n",
    "    def clear_canvas(self):\n",
    "        self.canvas.delete(\"all\")\n",
    "        self.image = Image.new(\"RGB\", (280, 280), \"white\")\n",
    "        self.draw = ImageDraw.Draw(self.image)\n",
    "\n",
    "root = tk.Tk()\n",
    "app = DrawingPad(root)\n",
    "root.mainloop()\n"
   ]
  }
 ],
 "metadata": {
  "kernelspec": {
   "display_name": "Python 3",
   "language": "python",
   "name": "python3"
  },
  "language_info": {
   "codemirror_mode": {
    "name": "ipython",
    "version": 3
   },
   "file_extension": ".py",
   "mimetype": "text/x-python",
   "name": "python",
   "nbconvert_exporter": "python",
   "pygments_lexer": "ipython3",
   "version": "3.12.6"
  }
 },
 "nbformat": 4,
 "nbformat_minor": 5
}
